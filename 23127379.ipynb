{
 "cells": [
  {
   "cell_type": "code",
   "execution_count": 50,
   "id": "cce342ab",
   "metadata": {},
   "outputs": [],
   "source": [
    "import numpy as np\n",
    "from scipy.optimize import minimize_scalar\n",
    "from typing import List, Tuple"
   ]
  },
  {
   "cell_type": "code",
   "execution_count": 51,
   "id": "c5341658",
   "metadata": {},
   "outputs": [],
   "source": [
    "# Dữ liệu đầu vào\n",
    "A = np.array([[1, 2],\n",
    "              [-1, 3],\n",
    "              [0.5, -2]])\n",
    "b = np.array([0.1, 0.2, -0.1])"
   ]
  },
  {
   "cell_type": "code",
   "execution_count": 52,
   "id": "f25649b1",
   "metadata": {},
   "outputs": [],
   "source": [
    "# Cài đặt hàm f(x) đề bài yêu cầu và gradient của hàm f(x)\n",
    "def f(x: np.ndarray) -> float:\n",
    "    return np.log(np.sum(np.exp(A @ x + b)))\n",
    "\n",
    "def grad_f(x: np.ndarray) -> np.ndarray:\n",
    "    exps = np.exp(A @ x + b)\n",
    "    return (exps @ A) / np.sum(exps)\n"
   ]
  },
  {
   "cell_type": "code",
   "execution_count": 53,
   "id": "bf4096e9",
   "metadata": {},
   "outputs": [],
   "source": [
    "# Cài đặt thuật toán theo phương pháp Parabol\n",
    "def parabolic_interpolation(phi, t0 = 0, t1 = 1e-2, t2=1e-1, tol=1e-5, max_iter=100):\n",
    "    for _ in range(max_iter):\n",
    "        y0, y1, y2 = phi(t0), phi(t1), phi(t2)\n",
    "        numerator = (t1 - t0)**2 * (y1 - y2) - (t1 - t2)**2 * (y1 - y0)\n",
    "        demoniator = (t1 - t0) * (y1 - y2) - (t1 - t2) * (y1 - y2)\n",
    "        if demoniator == 0:\n",
    "            break\n",
    "        t_min = t1 - 0.5 * numerator / demoniator\n",
    "        if abs(t_min - t1) < tol:\n",
    "            return t_min\n",
    "        \n",
    "        t0, t1, t2 = t1, t2, t_min\n",
    "    \n",
    "    return t1\n",
    "\n",
    "def gradient_descent_parabolic(x0, epsilon=1e-5, max_iter=100):\n",
    "    x = x0.copy()\n",
    "    history = [x.copy()]\n",
    "    for _ in range(max_iter):\n",
    "        g = grad_f(x)\n",
    "        if np.linalg.norm(g) < epsilon:\n",
    "            break\n",
    "        phi = lambda t: f(x - t * g)\n",
    "        t = parabolic_interpolation(phi)\n",
    "        x = x - t * g\n",
    "        history.append(x.copy())\n",
    "\n",
    "    return x, history"
   ]
  },
  {
   "cell_type": "code",
   "execution_count": 54,
   "id": "6ced959c",
   "metadata": {},
   "outputs": [],
   "source": [
    "# Cài đặt thuật toán theo phương pháp Brent\n",
    "def gradient_descent_brent(x0, epsilon=1e-5, max_iter=100):\n",
    "    x = x0.copy()\n",
    "    history = [x.copy()]\n",
    "    for _ in range(max_iter):\n",
    "        g = grad_f(x)\n",
    "        if np.linalg.norm(g) < epsilon:\n",
    "            break\n",
    "        phi = lambda t: f(x - t * g)\n",
    "        res = minimize_scalar(phi, method='brent')\n",
    "        t = res.x\n",
    "        x = x - t * g\n",
    "        history.append(x.copy())\n",
    "\n",
    "    return x, history"
   ]
  },
  {
   "cell_type": "code",
   "execution_count": 55,
   "id": "4d2eada5",
   "metadata": {},
   "outputs": [
    {
     "name": "stdout",
     "output_type": "stream",
     "text": [
      "Nghiệm gần đúng theo phương pháp Parabol: [-0.6842572  -0.38376046]. Số vòng lặp theo phương pháp Parabol: 100\n",
      "Nghiệm gần đúng theo phương pháp Brent: [-1.09048829 -0.48931366]. Số vòng lặp theo phương pháp Brent: 87\n"
     ]
    }
   ],
   "source": [
    "x0 = np.array([0.0, 0.0])\n",
    "\n",
    "x_parab, hist_prab = gradient_descent_parabolic(x0)\n",
    "x_brent, hist_brent = gradient_descent_brent(x0)\n",
    "\n",
    "print(f\"Nghiệm gần đúng theo phương pháp Parabol: {x_parab}. Số vòng lặp theo phương pháp Parabol: {len(hist_prab) - 1}\")\n",
    "print(f\"Nghiệm gần đúng theo phương pháp Brent: {x_brent}. Số vòng lặp theo phương pháp Brent: {len(hist_brent) - 1}\")\n"
   ]
  }
 ],
 "metadata": {
  "kernelspec": {
   "display_name": "base",
   "language": "python",
   "name": "python3"
  },
  "language_info": {
   "codemirror_mode": {
    "name": "ipython",
    "version": 3
   },
   "file_extension": ".py",
   "mimetype": "text/x-python",
   "name": "python",
   "nbconvert_exporter": "python",
   "pygments_lexer": "ipython3",
   "version": "3.12.7"
  }
 },
 "nbformat": 4,
 "nbformat_minor": 5
}
